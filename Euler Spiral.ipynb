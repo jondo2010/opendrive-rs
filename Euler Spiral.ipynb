{
 "cells": [
  {
   "cell_type": "code",
   "execution_count": 1,
   "metadata": {},
   "outputs": [],
   "source": [
    "from sympy import *\n",
    "init_printing()"
   ]
  },
  {
   "cell_type": "code",
   "execution_count": 4,
   "metadata": {},
   "outputs": [],
   "source": [
    "x, y = symbols('x y', cls=Function)\n",
    "t = symbols('t', real=True)\n",
    "R = ((x(t).diff(t)**2 + y(t).diff(t)**2)**(3/2) \\\n",
    "     / (x(t).diff(t)*y(t).diff(t, 2) - y(t).diff(t)*x(t).diff(t,2)))"
   ]
  },
  {
   "cell_type": "code",
   "execution_count": 25,
   "metadata": {},
   "outputs": [
    {
     "data": {
      "image/png": "[encoded data removed]",
      "text/latex": [
       "$$\\left[\\begin{matrix}\\sqrt{\\pi} a C\\left(\\frac{t}{\\sqrt{\\pi}}\\right)\\\\\\sqrt{\\pi} a S\\left(\\frac{t}{\\sqrt{\\pi}}\\right)\\end{matrix}\\right]$$"
      ],
      "text/plain": [
       "⎡             ⎛t ⎞⎤\n",
       "⎢√π⋅a⋅fresnelc⎜──⎟⎥\n",
       "⎢             ⎝√π⎠⎥\n",
       "⎢                 ⎥\n",
       "⎢             ⎛t ⎞⎥\n",
       "⎢√π⋅a⋅fresnels⎜──⎟⎥\n",
       "⎣             ⎝√π⎠⎦"
      ]
     },
     "metadata": {},
     "output_type": "display_data"
    },
    {
     "data": {
      "image/png": "[encoded data removed]",
      "text/latex": [
       "$$K = \\frac{a^{2} t}{\\left|{a}\\right|^{3.0}}$$"
      ],
      "text/plain": [
       "     2      -3.0\n",
       "K = a ⋅t⋅│a│    "
      ]
     },
     "metadata": {},
     "output_type": "display_data"
    },
    {
     "data": {
      "image/png": "[encoded data removed]",
      "text/latex": [
       "$$L = \\left(- t_{0} + t_{1}\\right) \\left|{a}\\right|$$"
      ],
      "text/plain": [
       "L = (-t₀ + t₁)⋅│a│"
      ]
     },
     "metadata": {},
     "output_type": "display_data"
    }
   ],
   "source": [
    "a, t0, t1 = symbols('a t0 t1', real=True)\n",
    "\n",
    "curve = Matrix([\n",
    "    a*sqrt(pi)*fresnelc((t)/sqrt(pi)),\n",
    "    a*sqrt(pi)*fresnels((t)/sqrt(pi))\n",
    "])\n",
    "display(curve)\n",
    "\n",
    "K = 1 / R.subs({x(t): curve[0], y(t): curve[1]}).doit().simplify()\n",
    "display(Eq(Symbol('K'), K))\n",
    "\n",
    "L = integrate(sqrt(curve[0].diff(t)**2 + curve[1].diff(t)**2), (t, t0, t1)).simplify()\n",
    "display(Eq(Symbol('L'), L))"
   ]
  },
  {
   "cell_type": "code",
   "execution_count": 29,
   "metadata": {},
   "outputs": [
    {
     "data": {
      "image/png": "[encoded data removed]",
      "text/latex": [
       "$$\\left \\{ a : - \\frac{k_{1}}{\\left|{k_{1}}\\right|} \\sqrt{- \\frac{l}{\\left|{k_{0}}\\right| - \\left|{k_{1}}\\right|}}, \\quad t_{0} : \\frac{k_{1} \\left|{k_{0}}\\right|}{\\left|{k_{1}}\\right|} \\sqrt{- \\frac{l}{\\left|{k_{0}}\\right| - \\left|{k_{1}}\\right|}}, \\quad t_{1} : k_{1} \\sqrt{- \\frac{l}{\\left|{k_{0}}\\right| - \\left|{k_{1}}\\right|}}\\right \\}$$"
      ],
      "text/plain": [
       "⎧           _____________              _____________                          \n",
       "⎪          ╱     -l                   ╱     -l                                \n",
       "⎪   -k₁⋅  ╱  ───────────        k₁⋅  ╱  ─────────── ⋅│k₀│             ________\n",
       "⎨       ╲╱   │k₀│ - │k₁│           ╲╱   │k₀│ - │k₁│                  ╱     -l \n",
       "⎪a: ──────────────────────, t₀: ─────────────────────────, t₁: k₁⋅  ╱  ───────\n",
       "⎪            │k₁│                          │k₁│                   ╲╱   │k₀│ - \n",
       "⎩                                                                             \n",
       "\n",
       "     ⎫\n",
       "     ⎪\n",
       "_____⎪\n",
       "     ⎬\n",
       "──── ⎪\n",
       "│k₁│ ⎪\n",
       "     ⎭"
      ]
     },
     "metadata": {},
     "output_type": "display_data"
    }
   ],
   "source": [
    "k0, k1, l = symbols('k0 k1 l', real=True)\n",
    "\n",
    "with assuming(Q.positive_definite(k0), Q.positive_definite(k1), Q.is_true(k1 > k0)):\n",
    "    sn = solve([\n",
    "        Eq(K.subs(t, t0), abs(k0)),\n",
    "        Eq(K.subs(t, t1), abs(k1)),\n",
    "        Eq(L, l),\n",
    "    ], (a, t0, t1), dict=True)\n",
    "    display(sn[0])"
   ]
  },
  {
   "cell_type": "code",
   "execution_count": 85,
   "metadata": {},
   "outputs": [],
   "source": [
    "xy = MatrixSymbol('xy', 2, 1)\n",
    "th = symbols('theta')\n",
    "d = {\n",
    "    k0: 0.0,\n",
    "    k1: 5.9114369622925669e-02,\n",
    "    l: 5.7125709578755304e+00,\n",
    "    \n",
    "    xy: Matrix([\n",
    "        34.008391843292344e+00,\n",
    "        -4.3421826556979193e+00,\n",
    "    ]),\n",
    "    th: 7.9998293398872988e-03,\n",
    "}\n",
    "\n",
    "d2 = {\n",
    "    xy: Matrix([\n",
    "        39.707082592335631e+00,\n",
    "        -4.6174670591660050e+00,        \n",
    "    ]),\n",
    "    th: -1.6084768620939371e-01,\n",
    "}\n",
    "\n",
    "d3 = {\n",
    "    k0: -5.9114369622925669e-02,\n",
    "    k1: -0.0,\n",
    "    l: 5.7125709578755304e+00,\n",
    "    xy: Matrix([\n",
    "        4.5392930162567524e+01,\n",
    "        -6.6292251856718263e+00\n",
    "    ]),\n",
    "    th: -5.1929742028899106e-01,\n",
    "}"
   ]
  },
  {
   "cell_type": "code",
   "execution_count": 86,
   "metadata": {},
   "outputs": [
    {
     "name": "stderr",
     "output_type": "stream",
     "text": [
      "/usr/local/lib/python3.6/site-packages/sympy/plotting/plot.py:1109: RuntimeWarning: invalid value encountered in double_scalars\n",
      "  cos_theta = dot_product / (vector_a_norm * vector_b_norm)\n"
     ]
    },
    {
     "data": {
      "image/png": "[encoded data removed]",
      "text/plain": [
       "<matplotlib.figure.Figure at 0x103a16eb8>"
      ]
     },
     "metadata": {},
     "output_type": "display_data"
    },
    {
     "data": {
      "text/plain": [
       "<sympy.plotting.plot.Plot at 0x1039da588>"
      ]
     },
     "execution_count": 86,
     "metadata": {},
     "output_type": "execute_result"
    }
   ],
   "source": [
    "# Take into account the curvature sign\n",
    "curve2 = Matrix([[-1, 0], [0, -sign(k1)]]) * curve\n",
    "\n",
    "plotting.plot_parametric(\n",
    "    curve2[0].subs(sn[0]).subs(d),\n",
    "    curve2[1].subs(sn[0]).subs(d),\n",
    "    (t, sn[0][t0].subs(d), sn[0][t1].subs(d3))\n",
    ")"
   ]
  },
  {
   "cell_type": "code",
   "execution_count": 76,
   "metadata": {},
   "outputs": [
    {
     "data": {
      "image/png": "[encoded data removed]",
      "text/plain": [
       "<matplotlib.figure.Figure at 0x1039fcda0>"
      ]
     },
     "metadata": {},
     "output_type": "display_data"
    },
    {
     "data": {
      "image/png": "[encoded data removed]",
      "text/latex": [
       "$$\\left[\\begin{matrix}34.0083918432923\\\\-4.34218265569792\\end{matrix}\\right]$$"
      ],
      "text/plain": [
       "⎡34.0083918432923 ⎤\n",
       "⎢                 ⎥\n",
       "⎣-4.34218265569792⎦"
      ]
     },
     "metadata": {},
     "output_type": "display_data"
    },
    {
     "data": {
      "image/png": "[encoded data removed]",
      "text/latex": [
       "$$\\left[\\begin{matrix}39.7019489380177\\\\-3.9757602694726\\end{matrix}\\right]$$"
      ],
      "text/plain": [
       "⎡39.7019489380177⎤\n",
       "⎢                ⎥\n",
       "⎣-3.9757602694726⎦"
      ]
     },
     "metadata": {},
     "output_type": "display_data"
    },
    {
     "data": {
      "image/png": "[encoded data removed]",
      "text/latex": [
       "$$\\left[\\begin{matrix}39.7070825923356\\\\-4.617467059166\\end{matrix}\\right]$$"
      ],
      "text/plain": [
       "⎡39.7070825923356⎤\n",
       "⎢                ⎥\n",
       "⎣-4.617467059166 ⎦"
      ]
     },
     "metadata": {},
     "output_type": "display_data"
    }
   ],
   "source": [
    "# Rotate by the heading\n",
    "rot = Matrix([[cos(th), -sin(th)], [sin(th), cos(th)]])\n",
    "curve3 = (rot * curve2)\n",
    "\n",
    "plotting.plot_parametric(\n",
    "    curve3[0].subs(sn[0]).subs(d),\n",
    "    curve3[1].subs(sn[0]).subs(d),\n",
    "    (t, sn[0][t0].subs(d), sn[0][t1].subs(d))\n",
    ")\n",
    "\n",
    "p0 = (curve3 + xy).subs({t: t0}).subs(sn[0]).subs(d).doit().evalf()\n",
    "p1 = (curve3 + xy).subs({t: t1}).subs(sn[0]).subs(d).doit().evalf()\n",
    "display(p0)\n",
    "display(p1)\n",
    "display(d2[xy])"
   ]
  },
  {
   "cell_type": "code",
   "execution_count": 84,
   "metadata": {},
   "outputs": [
    {
     "name": "stdout",
     "output_type": "stream",
     "text": [
      "{a: -k1*sqrt(-l/(Abs(k0) - Abs(k1)))/Abs(k1), t0: k1*sqrt(-l/(Abs(k0) - Abs(k1)))*Abs(k0)/Abs(k1), t1: k1*sqrt(-l/(Abs(k0) - Abs(k1)))}\n"
     ]
    }
   ],
   "source": [
    "print(sn[0])"
   ]
  }
 ],
 "metadata": {
  "kernelspec": {
   "display_name": "Python 3",
   "language": "python",
   "name": "python3"
  },
  "language_info": {
   "codemirror_mode": {
    "name": "ipython",
    "version": 3
   },
   "file_extension": ".py",
   "mimetype": "text/x-python",
   "name": "python",
   "nbconvert_exporter": "python",
   "pygments_lexer": "ipython3",
   "version": "3.6.5"
  }
 },
 "nbformat": 4,
 "nbformat_minor": 2
}
