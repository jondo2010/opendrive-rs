{
 "cells": [
  {
   "cell_type": "code",
   "execution_count": 7,
   "metadata": {},
   "outputs": [],
   "source": [
    "from sympy import *\n",
    "init_printing()"
   ]
  },
  {
   "cell_type": "code",
   "execution_count": 63,
   "metadata": {},
   "outputs": [
    {
     "data": {
      "image/png": "[encoded data removed]",
      "text/latex": [
       "$$\\frac{\\left|{a}\\right|^{3.0}}{a^{2} \\left(t - t_{0}\\right)}$$"
      ],
      "text/plain": [
       "      3.0  \n",
       "   │a│     \n",
       "───────────\n",
       " 2         \n",
       "a ⋅(t - t₀)"
      ]
     },
     "metadata": {},
     "output_type": "display_data"
    }
   ],
   "source": [
    "x, y = symbols('x y', cls=Function)\n",
    "R = ((x(t).diff(t)**2 + y(t).diff(t)**2)**(3/2) \\\n",
    "     / (x(t).diff(t)*y(t).diff(t, 2) - y(t).diff(t)*x(t).diff(t,2)))"
   ]
  },
  {
   "cell_type": "code",
   "execution_count": 156,
   "metadata": {},
   "outputs": [
    {
     "data": {
      "image/png": "[encoded data removed]",
      "text/latex": [
       "$$\\frac{a^{2}}{\\left|{a}\\right|^{3.0}} \\left(t - t_{0}\\right)$$"
      ],
      "text/plain": [
       " 2             -3.0\n",
       "a ⋅(t - t₀)⋅│a│    "
      ]
     },
     "metadata": {},
     "output_type": "display_data"
    }
   ],
   "source": [
    "a, b, t, t0 = symbols('a b t t0', real=True)\n",
    "x0 = symbols('x0', real=True)\n",
    "X = a*sqrt(pi)*fresnelc((t-t0)/sqrt(pi))\n",
    "Y = a*sqrt(pi)*fresnels((t-t0)/sqrt(pi))\n",
    "\n",
    "#plotting.plot_parametric(x.subs(d), y.subs(d), (t, 0, 1))\n",
    "\n",
    "#K = (t-t0)/a\n",
    "K = 1 / R.subs({x(t): X, y(t): Y}).doit().simplify()\n",
    "display(K)\n",
    "L = sqrt(a**2)*(t)"
   ]
  },
  {
   "cell_type": "code",
   "execution_count": 143,
   "metadata": {},
   "outputs": [
    {
     "data": {
      "image/png": "[encoded data removed]",
      "text/latex": [
       "$$b \\left|{a}\\right|$$"
      ],
      "text/plain": [
       "b⋅│a│"
      ]
     },
     "metadata": {},
     "output_type": "display_data"
    }
   ],
   "source": [
    "L = integrate(sqrt(X.diff(t)**2 + Y.diff(t)**2), (t, 0, b)).simplify()\n",
    "display(L)"
   ]
  },
  {
   "cell_type": "code",
   "execution_count": 159,
   "metadata": {},
   "outputs": [
    {
     "data": {
      "image/png": "[encoded data removed]",
      "text/latex": [
       "$$\\left [ \\right ]$$"
      ],
      "text/plain": [
       "[]"
      ]
     },
     "metadata": {},
     "output_type": "display_data"
    }
   ],
   "source": [
    "k0, k1, l = symbols('k0 k1 l', real=True)\n",
    "\n",
    "sn = solve([\n",
    "    Eq(K.subs(t, 0), k0),\n",
    "    Eq(K.subs(t, b), k1),\n",
    "    Eq(L, l),\n",
    "], (a, t0), dict=True)\n",
    "display(sn)"
   ]
  },
  {
   "cell_type": "code",
   "execution_count": 152,
   "metadata": {},
   "outputs": [
    {
     "data": {
      "image/png": "[encoded data removed]",
      "text/latex": [
       "$$0.581115333734229$$"
      ],
      "text/plain": [
       "0.581115333734229"
      ]
     },
     "execution_count": 152,
     "metadata": {},
     "output_type": "execute_result"
    }
   ],
   "source": [
    "sn[0][b].subs(d)"
   ]
  },
  {
   "cell_type": "code",
   "execution_count": 153,
   "metadata": {},
   "outputs": [
    {
     "data": {
      "image/png": "[encoded data removed]",
      "text/plain": [
       "<matplotlib.figure.Figure at 0x11a95d4a8>"
      ]
     },
     "metadata": {},
     "output_type": "display_data"
    },
    {
     "data": {
      "text/plain": [
       "<sympy.plotting.plot.Plot at 0x1194755f8>"
      ]
     },
     "execution_count": 153,
     "metadata": {},
     "output_type": "execute_result"
    }
   ],
   "source": [
    "th = symbols('theta')\n",
    "d = {\n",
    "    k0: 0.0,\n",
    "    k1: 5.9114369622925669e-02,\n",
    "    l: 5.7125709578755304e+00,\n",
    "    \n",
    "    'x': 34.008391843292344e+00,\n",
    "    'y': -4.3421826556979193e+00,\n",
    "    th: 7.9998293398872988e-03,\n",
    "    \n",
    "    'x2': 39.707082592335631e+00,\n",
    "    'y2': -4.6174670591660050e+00,\n",
    "    'hdg2': -1.6084768620939371e-01,\n",
    "}\n",
    "\n",
    "xy = Matrix([\n",
    "    [(X - X.subs(t, 0)).simplify()],\n",
    "    [(Y - Y.subs(t, 0)).simplify()]\n",
    "])\n",
    "\n",
    "rot = Matrix([[cos(th), -sin(th)], [sin(th), cos(th)]])\n",
    "curv = (rot * xy)\n",
    "\n",
    "plotting.plot_parametric(\n",
    "    curv[0].subs(sn[0]).subs(d),\n",
    "    curv[1].subs(sn[0]).subs(d),\n",
    "    (t, 0, sn[0][b].subs(d))\n",
    ")"
   ]
  },
  {
   "cell_type": "code",
   "execution_count": 154,
   "metadata": {},
   "outputs": [
    {
     "data": {
      "image/png": "[encoded data removed]",
      "text/latex": [
       "$$\\left[\\begin{matrix}- 9.83035660265016 \\sqrt{\\pi} C\\left(\\frac{t}{\\sqrt{\\pi}}\\right)\\\\- 9.83035660265016 \\sqrt{\\pi} S\\left(\\frac{t}{\\sqrt{\\pi}}\\right)\\end{matrix}\\right]$$"
      ],
      "text/plain": [
       "⎡                             ⎛t ⎞⎤\n",
       "⎢-9.83035660265016⋅√π⋅fresnelc⎜──⎟⎥\n",
       "⎢                             ⎝√π⎠⎥\n",
       "⎢                                 ⎥\n",
       "⎢                             ⎛t ⎞⎥\n",
       "⎢-9.83035660265016⋅√π⋅fresnels⎜──⎟⎥\n",
       "⎣                             ⎝√π⎠⎦"
      ]
     },
     "execution_count": 154,
     "metadata": {},
     "output_type": "execute_result"
    }
   ],
   "source": [
    "xy.subs(sn[0]).subs(d)"
   ]
  }
 ],
 "metadata": {
  "kernelspec": {
   "display_name": "Python 3",
   "language": "python",
   "name": "python3"
  },
  "language_info": {
   "codemirror_mode": {
    "name": "ipython",
    "version": 3
   },
   "file_extension": ".py",
   "mimetype": "text/x-python",
   "name": "python",
   "nbconvert_exporter": "python",
   "pygments_lexer": "ipython3",
   "version": "3.6.5"
  }
 },
 "nbformat": 4,
 "nbformat_minor": 2
}
